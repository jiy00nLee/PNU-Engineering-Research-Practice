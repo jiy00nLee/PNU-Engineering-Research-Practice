{
 "cells": [
  {
   "cell_type": "markdown",
   "id": "5d162c8d",
   "metadata": {},
   "source": [
    "## 1. Neural Networks\n",
    "\n",
    "![](./img/neural_network.PNG)\n"
   ]
  },
  {
   "cell_type": "markdown",
   "id": "3ea34624",
   "metadata": {},
   "source": [
    "## 2. Architecture of Neural Network\n",
    "- Activation Function\n",
    "- Output Layer\n",
    "- Implementation"
   ]
  },
  {
   "cell_type": "markdown",
   "id": "ad9fe652",
   "metadata": {},
   "source": [
    "### 2-1. Activation Function"
   ]
  },
  {
   "cell_type": "markdown",
   "id": "e519877b",
   "metadata": {},
   "source": [
    "#### Perceptron"
   ]
  },
  {
   "cell_type": "markdown",
   "id": "61206b6a",
   "metadata": {},
   "source": [
    "#### Step Function\n",
    "- 선형 함수의 결과를 비선형으로 나타내기 위한 함수 \n",
    "- 0또는 1로 표현"
   ]
  },
  {
   "cell_type": "markdown",
   "id": "2bef0170",
   "metadata": {},
   "source": [
    "#### Sigmoid Function\n",
    "- 선형 함수의 결과를 비선형으로 나타내기 위한 함수\n",
    "- 0~1까지의 비선형으로 표현 \n",
    "- 신경망 초기 모델에 자주 사용됨  \n",
    "→ (단점) 양 극단에 가까울 수록"
   ]
  },
  {
   "cell_type": "markdown",
   "id": "83677995",
   "metadata": {},
   "source": [
    "#### Step Function & Sigmoid Function\n",
    "- 두 함수 모두 비선형 함수\n",
    "    - 신경망에서는 활성화 함수로 비선형 함수를 사용해야 함  \n",
    "      → 선형함수의 경우, layer가 쌓여도 상수값만 변하기 때문."
   ]
  },
  {
   "cell_type": "markdown",
   "id": "408ff862",
   "metadata": {},
   "source": [
    "#### ReLU Function\n",
    "- 선형 함수의 결과를 선형으로 나타내기 위한 함수\n",
    "  → 깊이가 깊어질수록 비선형 함수와 비슷한 모습을 하기에 선형임에도 사용 가능.\n",
    "- 특정 값(0)을 기준으로 0또는 '입력값 그대로'를 출력  \n",
    "- (장점) : 계산과정이 단순해 다른 선형함수들에 비해 매우 빠르다.\n",
    "- (단점) : 특정 노드의 가중치가 0이 되면 학습이 완료될 때까지 0으로 남음. "
   ]
  },
  {
   "cell_type": "markdown",
   "id": "882faa5b",
   "metadata": {},
   "source": [
    "### 2-2. Output Layer"
   ]
  },
  {
   "cell_type": "markdown",
   "id": "47d22edd",
   "metadata": {},
   "source": [
    "👉 학습시 속도가 굉장이 느리고 오래걸림. 대신 판단 속도가 빠르다."
   ]
  },
  {
   "cell_type": "code",
   "execution_count": 1,
   "id": "189d5bd4",
   "metadata": {},
   "outputs": [],
   "source": [
    " # coding: utf-8\n",
    "import sys, os\n",
    "import numpy as np\n",
    "import pickle\n",
    "from mnist import load_mnist\n",
    "from functions import sigmoid, softmax"
   ]
  },
  {
   "cell_type": "code",
   "execution_count": 2,
   "id": "d1fa2ca2",
   "metadata": {},
   "outputs": [],
   "source": [
    " def get_data():\n",
    "    (x_train, t_train), (x_test, t_test) = load_mnist(normalize=True, flatten=True, one_hot_label=False)\n",
    "    return x_test, t_test"
   ]
  },
  {
   "cell_type": "code",
   "execution_count": 3,
   "id": "3f326697",
   "metadata": {},
   "outputs": [],
   "source": [
    "def init_network():\n",
    "    with open(\"sample_weight.pkl\", 'rb') as f:\n",
    "        network = pickle.load(f)  #pickle : 학습된 데이터를 불러옴.\n",
    "    return network"
   ]
  },
  {
   "cell_type": "code",
   "execution_count": 4,
   "id": "d57e2927",
   "metadata": {},
   "outputs": [],
   "source": [
    "def predict(network, x):\n",
    "    W1, W2, W3 = network['W1'], network['W2'], network['W3']\n",
    "    b1, b2, b3 = network['b1'], network['b2'], network['b3']\n",
    "    a1 = np.dot(x, W1) + b1\n",
    "    z1 = sigmoid(a1)\n",
    "    a2 = np.dot(z1, W2) + b2\n",
    "    z2 = sigmoid(a2)\n",
    "    a3 = np.dot(z2, W3) + b3  #3계층 네트워크(z1,z2,z3)\n",
    "    y = softmax(a3)\n",
    "    return y"
   ]
  },
  {
   "cell_type": "code",
   "execution_count": null,
   "id": "96233bed",
   "metadata": {},
   "outputs": [
    {
     "name": "stdout",
     "output_type": "stream",
     "text": [
      "Downloading train-images-idx3-ubyte.gz ... \n",
      "Done\n",
      "Downloading train-labels-idx1-ubyte.gz ... \n"
     ]
    }
   ],
   "source": [
    "x, t = get_data()\n",
    "network = init_network()"
   ]
  },
  {
   "cell_type": "code",
   "execution_count": null,
   "id": "4d0d596f",
   "metadata": {},
   "outputs": [],
   "source": [
    "accuracy_cnt = 0\n",
    "for i in range(len(x)):\n",
    "    y = predict(network, x[i])\n",
    "    p= np.argmax(y) # 확률이 가장 높은 원소의 인덱스를 얻는다.\n",
    "    if p == t[i]:\n",
    "        accuracy_cnt += 1\n",
    "    print(\"Accuracy:\" + str(float(accuracy_cnt) / len(x)))\n"
   ]
  },
  {
   "cell_type": "code",
   "execution_count": null,
   "id": "3a66381e",
   "metadata": {},
   "outputs": [],
   "source": []
  }
 ],
 "metadata": {
  "kernelspec": {
   "display_name": "Python 3 (ipykernel)",
   "language": "python",
   "name": "python3"
  },
  "language_info": {
   "codemirror_mode": {
    "name": "ipython",
    "version": 3
   },
   "file_extension": ".py",
   "mimetype": "text/x-python",
   "name": "python",
   "nbconvert_exporter": "python",
   "pygments_lexer": "ipython3",
   "version": "3.9.7"
  }
 },
 "nbformat": 4,
 "nbformat_minor": 5
}
